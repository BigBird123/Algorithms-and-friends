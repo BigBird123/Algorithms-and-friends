{
 "cells": [
  {
   "cell_type": "code",
   "execution_count": 4,
   "id": "bb6b0e07",
   "metadata": {},
   "outputs": [],
   "source": [
    "class Solution1(object): #Solution 1\n",
    "    def search(self, nums, target):\n",
    "        \"\"\"\n",
    "        :type nums: List[int]\n",
    "        :type target: int\n",
    "        :rtype: int\n",
    "        \"\"\"\n",
    "        low = 0\n",
    "        hight = len(nums)-1\n",
    "        while low <= hight:\n",
    "            mid = (low+hight) // 2\n",
    "            if target == nums[mid]:\n",
    "                return mid\n",
    "            elif target > nums[mid]:\n",
    "                low = mid + 1 \n",
    "            else:\n",
    "                hight = mid - 1 \n",
    "        return -1"
   ]
  },
  {
   "cell_type": "code",
   "execution_count": 6,
   "id": "34d59931",
   "metadata": {},
   "outputs": [],
   "source": [
    "class Solution2: #Solution 2\n",
    "    def search(self, nums, target):\n",
    "            if target not in nums:\n",
    "                return -1\n",
    "            lo, hi = 0, len(nums)           \n",
    "            while lo < hi:\n",
    "                mid = (lo + hi) // 2\n",
    "                if nums[mid] < target:\n",
    "                    lo = mid+1\n",
    "                else:\n",
    "                    hi = mid                    \n",
    "            return lo"
   ]
  },
  {
   "cell_type": "code",
   "execution_count": null,
   "id": "14663355",
   "metadata": {},
   "outputs": [],
   "source": []
  }
 ],
 "metadata": {
  "kernelspec": {
   "display_name": "Python 3 (ipykernel)",
   "language": "python",
   "name": "python3"
  },
  "language_info": {
   "codemirror_mode": {
    "name": "ipython",
    "version": 3
   },
   "file_extension": ".py",
   "mimetype": "text/x-python",
   "name": "python",
   "nbconvert_exporter": "python",
   "pygments_lexer": "ipython3",
   "version": "3.10.0"
  }
 },
 "nbformat": 4,
 "nbformat_minor": 5
}
